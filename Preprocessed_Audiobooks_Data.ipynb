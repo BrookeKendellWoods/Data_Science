{
 "cells": [
  {
   "cell_type": "code",
   "execution_count": 1,
   "id": "65c16dfc",
   "metadata": {},
   "outputs": [],
   "source": [
    "import numpy as np\n",
    "import tensorflow as tf\n",
    "\n",
    "from sklearn import preprocessing"
   ]
  },
  {
   "cell_type": "code",
   "execution_count": 2,
   "id": "493190bb",
   "metadata": {},
   "outputs": [],
   "source": [
    "raw_csv_data = np.loadtxt(\"Audiobooks_data.csv\", delimiter = ',')"
   ]
  },
  {
   "cell_type": "markdown",
   "id": "d7d56872",
   "metadata": {},
   "source": [
    "# balance the dataset"
   ]
  },
  {
   "cell_type": "code",
   "execution_count": 3,
   "id": "e55c712d",
   "metadata": {},
   "outputs": [],
   "source": [
    "unscaled_inputs_all = raw_csv_data[:,1:-1]\n",
    "targets_all = raw_csv_data[:,-1]"
   ]
  },
  {
   "cell_type": "code",
   "execution_count": 4,
   "id": "1d9e61b3",
   "metadata": {},
   "outputs": [],
   "source": [
    "num_one_targets = int(np.sum(targets_all)) #sum all targets to get the number of targets that are ones\n",
    "zero_targets_counter = 0 \n",
    "indices_to_remove = [] #variable to record indices to be removed (need list or tuple)\n",
    "\n",
    "#itterate over dataset and balance it \n",
    "for i in range(targets_all.shape[0]): #targets_all contains all targets and its shape on 0 axis is basically length of vector so it will show us all targets \n",
    "    if targets_all[i]==0:\n",
    "        zero_targets_counter+=1\n",
    "        if zero_targets_counter > num_one_targets: #adds on index to indices to remove if the zero counter is greater than number of ones. \n",
    "            indices_to_remove.append(i) #delete indices of all targets we do not need to balance the dataset\n",
    "            \n",
    "unscaled_inputs_equal_priors = np.delete(unscaled_inputs_all, indices_to_remove, axis = 0)\n",
    "targets_equal_prior = np.delete(targets_all, indices_to_remove, axis = 0)\n",
    "            "
   ]
  },
  {
   "cell_type": "markdown",
   "id": "18e0a135",
   "metadata": {},
   "source": [
    "# standardize the inputs"
   ]
  },
  {
   "cell_type": "code",
   "execution_count": 5,
   "id": "d0c726c8",
   "metadata": {},
   "outputs": [],
   "source": [
    "scaled_inputs = preprocessing.scale(unscaled_inputs_equal_priors)"
   ]
  },
  {
   "cell_type": "markdown",
   "id": "c74c284e",
   "metadata": {},
   "source": [
    "# shuffle the data"
   ]
  },
  {
   "cell_type": "code",
   "execution_count": 6,
   "id": "d828bcd1",
   "metadata": {},
   "outputs": [],
   "source": [
    "shuffled_indices = np.arange(scaled_inputs.shape[0])\n",
    "np.random.shuffle(shuffled_indices)\n",
    "\n",
    "shuffled_inputs = scaled_inputs[shuffled_indices] #use shuffled indices \n",
    "shuffled_targets = targets_equal_prior[shuffled_indices]"
   ]
  },
  {
   "cell_type": "markdown",
   "id": "8812c091",
   "metadata": {},
   "source": [
    "# split the data into train, validation, and test"
   ]
  },
  {
   "cell_type": "code",
   "execution_count": 7,
   "id": "08b9d241",
   "metadata": {},
   "outputs": [],
   "source": [
    "samples_count = shuffled_inputs.shape[0]"
   ]
  },
  {
   "cell_type": "code",
   "execution_count": 13,
   "id": "fc92ab8f",
   "metadata": {},
   "outputs": [],
   "source": [
    "train_samples_count = int(0.8*samples_count)\n",
    "validation_samples_count = int(0.1*samples_count)\n",
    "test_samples_count = samples_count - train_samples_count - validation_samples_count"
   ]
  },
  {
   "cell_type": "code",
   "execution_count": 14,
   "id": "e03ae9e9",
   "metadata": {},
   "outputs": [],
   "source": [
    "train_inputs = shuffled_inputs[:train_samples_count]\n",
    "train_targets = shuffled_targets[:train_samples_count]"
   ]
  },
  {
   "cell_type": "code",
   "execution_count": 15,
   "id": "909177fb",
   "metadata": {},
   "outputs": [],
   "source": [
    "validation_inputs = shuffled_inputs[train_samples_count:train_samples_count + validation_samples_count]\n",
    "validation_targets = shuffled_targets[train_samples_count:train_samples_count + validation_samples_count]"
   ]
  },
  {
   "cell_type": "code",
   "execution_count": 16,
   "id": "768648a7",
   "metadata": {},
   "outputs": [],
   "source": [
    "test_inputs = shuffled_inputs[train_samples_count + validation_samples_count:]\n",
    "test_targets = shuffled_targets[train_samples_count + validation_samples_count:]"
   ]
  },
  {
   "cell_type": "code",
   "execution_count": 17,
   "id": "9e709abc",
   "metadata": {},
   "outputs": [
    {
     "name": "stdout",
     "output_type": "stream",
     "text": [
      "1810.0 3579 0.5057278569432803\n",
      "217.0 447 0.4854586129753915\n",
      "210.0 448 0.46875\n"
     ]
    }
   ],
   "source": [
    "print(np.sum(train_targets), train_samples_count, np.sum(train_targets)/train_samples_count)\n",
    "print(np.sum(validation_targets), validation_samples_count, np.sum(validation_targets)/validation_samples_count)\n",
    "print(np.sum(test_targets), test_samples_count, np.sum(test_targets) /test_samples_count)"
   ]
  },
  {
   "cell_type": "code",
   "execution_count": 18,
   "id": "ab48af51",
   "metadata": {},
   "outputs": [],
   "source": [
    "np.savez(\"Audiobooks_train_data\", inputs=train_inputs, targets=train_targets)\n",
    "np.savez(\"Audiobooks_validation_data\", inputs=validation_inputs, targets=validation_targets)\n",
    "np.savez(\"Audiobooks_test_data\", inputs=test_inputs, targets=test_targets)"
   ]
  }
 ],
 "metadata": {
  "kernelspec": {
   "display_name": "Python 3",
   "language": "python",
   "name": "python3"
  },
  "language_info": {
   "codemirror_mode": {
    "name": "ipython",
    "version": 3
   },
   "file_extension": ".py",
   "mimetype": "text/x-python",
   "name": "python",
   "nbconvert_exporter": "python",
   "pygments_lexer": "ipython3",
   "version": "3.8.11"
  }
 },
 "nbformat": 4,
 "nbformat_minor": 5
}
