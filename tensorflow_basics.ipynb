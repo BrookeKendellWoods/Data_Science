{
 "cells": [
  {
   "cell_type": "code",
   "execution_count": 1,
   "id": "053c7682",
   "metadata": {},
   "outputs": [],
   "source": [
    "import tensorflow as tf\n",
    "import pandas as pd"
   ]
  },
  {
   "cell_type": "markdown",
   "id": "accc798c",
   "metadata": {},
   "source": [
    "# initialization of tensors"
   ]
  },
  {
   "cell_type": "code",
   "execution_count": 2,
   "id": "8d795d7a",
   "metadata": {},
   "outputs": [
    {
     "name": "stdout",
     "output_type": "stream",
     "text": [
      "tf.Tensor([[4]], shape=(1, 1), dtype=int32)\n"
     ]
    }
   ],
   "source": [
    "x = tf.constant(4, shape = (1,1)) #can also specify the dtype 'e.g change to float32'\n",
    "print(x)"
   ]
  },
  {
   "cell_type": "code",
   "execution_count": 3,
   "id": "52cf6ab1",
   "metadata": {},
   "outputs": [
    {
     "name": "stdout",
     "output_type": "stream",
     "text": [
      "tf.Tensor(\n",
      "[[1 2 3]\n",
      " [4 5 6]], shape=(2, 3), dtype=int32)\n"
     ]
    }
   ],
   "source": [
    "x = tf.constant([[1,2,3],[4,5,6]])\n",
    "print(x)"
   ]
  },
  {
   "cell_type": "code",
   "execution_count": 4,
   "id": "4c93708b",
   "metadata": {},
   "outputs": [
    {
     "name": "stdout",
     "output_type": "stream",
     "text": [
      "tf.Tensor(\n",
      "[[1. 1. 1.]\n",
      " [1. 1. 1.]\n",
      " [1. 1. 1.]], shape=(3, 3), dtype=float32)\n"
     ]
    }
   ],
   "source": [
    "x = tf.ones((3,3))\n",
    "print(x)"
   ]
  },
  {
   "cell_type": "code",
   "execution_count": 5,
   "id": "eccbedad",
   "metadata": {},
   "outputs": [
    {
     "name": "stdout",
     "output_type": "stream",
     "text": [
      "tf.Tensor(\n",
      "[[1. 0. 0.]\n",
      " [0. 1. 0.]\n",
      " [0. 0. 1.]], shape=(3, 3), dtype=float32)\n"
     ]
    }
   ],
   "source": [
    "x = tf.eye(3) #eye for identity matrix \n",
    "print(x)"
   ]
  },
  {
   "cell_type": "code",
   "execution_count": 6,
   "id": "c6e4cbcf",
   "metadata": {},
   "outputs": [
    {
     "name": "stdout",
     "output_type": "stream",
     "text": [
      "tf.Tensor(\n",
      "[[ 1.3143544  -1.5949203  -0.6956662 ]\n",
      " [-1.2280632  -1.0934286  -0.13861321]\n",
      " [-0.9716111  -0.37328425  0.9622611 ]], shape=(3, 3), dtype=float32)\n"
     ]
    }
   ],
   "source": [
    "#from a normal distribution \n",
    "x = tf.random.normal((3,3), mean = 0, stddev = 1) \n",
    "print(x) #gets values between -1 and 1 "
   ]
  },
  {
   "cell_type": "code",
   "execution_count": 7,
   "id": "ae8ef376",
   "metadata": {},
   "outputs": [
    {
     "name": "stdout",
     "output_type": "stream",
     "text": [
      "tf.Tensor([[0.82984376 0.8657161  0.27963138]], shape=(1, 3), dtype=float32)\n"
     ]
    }
   ],
   "source": [
    "#uniform distribution\n",
    "x = tf.random.uniform((1,3), minval = 0, maxval = 1)\n",
    "print(x)"
   ]
  },
  {
   "cell_type": "markdown",
   "id": "578fdeae",
   "metadata": {},
   "source": [
    "# mathematical operations "
   ]
  },
  {
   "cell_type": "code",
   "execution_count": 19,
   "id": "3b3ae71e",
   "metadata": {},
   "outputs": [],
   "source": [
    "x = tf.constant([1,2,3])\n",
    "y = tf.constant([9,8,7])"
   ]
  },
  {
   "cell_type": "code",
   "execution_count": 20,
   "id": "96cd5091",
   "metadata": {},
   "outputs": [
    {
     "name": "stdout",
     "output_type": "stream",
     "text": [
      "tf.Tensor([10 10 10], shape=(3,), dtype=int32)\n"
     ]
    }
   ],
   "source": [
    "z = tf.add(x,y) #adds each element wise \n",
    "z = x + y  #both equations are equivelent \n",
    "print(z)"
   ]
  },
  {
   "cell_type": "code",
   "execution_count": 21,
   "id": "d466f5b0",
   "metadata": {},
   "outputs": [
    {
     "name": "stdout",
     "output_type": "stream",
     "text": [
      "tf.Tensor([-8 -6 -4], shape=(3,), dtype=int32)\n"
     ]
    }
   ],
   "source": [
    "z = tf.subtract(x,y)\n",
    "z = x - y \n",
    "print(z)"
   ]
  },
  {
   "cell_type": "code",
   "execution_count": 22,
   "id": "590fd095",
   "metadata": {},
   "outputs": [
    {
     "name": "stdout",
     "output_type": "stream",
     "text": [
      "tf.Tensor([0.11111111 0.25       0.42857143], shape=(3,), dtype=float64)\n"
     ]
    }
   ],
   "source": [
    "z = tf.divide(x,y)\n",
    "z = x / y\n",
    "print(z)"
   ]
  },
  {
   "cell_type": "code",
   "execution_count": 23,
   "id": "f6dcfcb8",
   "metadata": {},
   "outputs": [
    {
     "name": "stdout",
     "output_type": "stream",
     "text": [
      "tf.Tensor([ 9 16 21], shape=(3,), dtype=int32)\n"
     ]
    }
   ],
   "source": [
    "z = tf.multiply(x,y)\n",
    "z = x * y\n",
    "print(z)"
   ]
  },
  {
   "cell_type": "code",
   "execution_count": 13,
   "id": "e7541734",
   "metadata": {},
   "outputs": [
    {
     "name": "stdout",
     "output_type": "stream",
     "text": [
      "tf.Tensor([  1  32 243], shape=(3,), dtype=int32)\n"
     ]
    }
   ],
   "source": [
    "z = x ** 5 #element wise expontentiation \n",
    "print(z)"
   ]
  },
  {
   "cell_type": "code",
   "execution_count": 25,
   "id": "3b9a4584",
   "metadata": {},
   "outputs": [
    {
     "name": "stdout",
     "output_type": "stream",
     "text": [
      "tf.Tensor(46, shape=(), dtype=int32)\n"
     ]
    }
   ],
   "source": [
    "z = tf.tensordot(x, y, axes = 1)\n",
    "print(z)"
   ]
  },
  {
   "cell_type": "code",
   "execution_count": 27,
   "id": "9c80e819",
   "metadata": {},
   "outputs": [],
   "source": [
    "x= tf.random.normal((2,3))\n",
    "y= tf.random.normal((3,4))"
   ]
  },
  {
   "cell_type": "code",
   "execution_count": 28,
   "id": "a99cf5fc",
   "metadata": {},
   "outputs": [
    {
     "name": "stdout",
     "output_type": "stream",
     "text": [
      "tf.Tensor(\n",
      "[[-0.10756827 -0.12699196  0.08879364  0.17527226]\n",
      " [-0.52414185  0.26615083  0.98801553  1.2508112 ]], shape=(2, 4), dtype=float32)\n"
     ]
    }
   ],
   "source": [
    "z = tf.matmul(x,y)\n",
    "print(z)"
   ]
  },
  {
   "cell_type": "markdown",
   "id": "a9b1eff4",
   "metadata": {},
   "source": [
    "# Indexing of a Tensor"
   ]
  },
  {
   "cell_type": "code",
   "execution_count": 34,
   "id": "4ea557bc",
   "metadata": {},
   "outputs": [],
   "source": [
    "x = tf.constant([0, 1, 1, 2, 3, 1, 2, 3])"
   ]
  },
  {
   "cell_type": "code",
   "execution_count": 36,
   "id": "54b1e822",
   "metadata": {},
   "outputs": [
    {
     "name": "stdout",
     "output_type": "stream",
     "text": [
      "tf.Tensor([1 1 2 3 1 2 3], shape=(7,), dtype=int32)\n"
     ]
    }
   ],
   "source": [
    "print(x[1:]) #prints everything except index position 0 "
   ]
  },
  {
   "cell_type": "code",
   "execution_count": 37,
   "id": "36679344",
   "metadata": {},
   "outputs": [
    {
     "name": "stdout",
     "output_type": "stream",
     "text": [
      "tf.Tensor([0 1 3 2], shape=(4,), dtype=int32)\n"
     ]
    }
   ],
   "source": [
    "print(x[::2]) #skips every other element "
   ]
  },
  {
   "cell_type": "code",
   "execution_count": 38,
   "id": "423b473e",
   "metadata": {},
   "outputs": [
    {
     "name": "stdout",
     "output_type": "stream",
     "text": [
      "tf.Tensor([3 2 1 3 2 1 1 0], shape=(8,), dtype=int32)\n"
     ]
    }
   ],
   "source": [
    "print(x[::-1]) #reverse order"
   ]
  },
  {
   "cell_type": "code",
   "execution_count": 43,
   "id": "dac68a68",
   "metadata": {},
   "outputs": [
    {
     "name": "stdout",
     "output_type": "stream",
     "text": [
      "tf.Tensor([0 2], shape=(2,), dtype=int32)\n"
     ]
    }
   ],
   "source": [
    "indices = tf.constant([0,3])\n",
    "x_ind = tf.gather(x, indices)\n",
    "print(x_ind)"
   ]
  },
  {
   "cell_type": "code",
   "execution_count": 46,
   "id": "0857301d",
   "metadata": {},
   "outputs": [
    {
     "data": {
      "text/plain": [
       "<tf.Tensor: shape=(2,), dtype=int32, numpy=array([1, 2])>"
      ]
     },
     "execution_count": 46,
     "metadata": {},
     "output_type": "execute_result"
    }
   ],
   "source": [
    "x = tf.constant([[1,2],[3,4],[5,6]])\n",
    "#if want to get first row of all elements \n",
    "x[0] #or #(x[0,:])"
   ]
  },
  {
   "cell_type": "code",
   "execution_count": 47,
   "id": "b7893c2c",
   "metadata": {},
   "outputs": [
    {
     "data": {
      "text/plain": [
       "<tf.Tensor: shape=(2, 2), dtype=int32, numpy=\n",
       "array([[1, 2],\n",
       "       [3, 4]])>"
      ]
     },
     "execution_count": 47,
     "metadata": {},
     "output_type": "execute_result"
    }
   ],
   "source": [
    "#if want to get first two rows\n",
    "x[0:2] #non inclusive "
   ]
  },
  {
   "cell_type": "markdown",
   "id": "d84447c4",
   "metadata": {},
   "source": [
    "# Reshaping a Tensor"
   ]
  },
  {
   "cell_type": "code",
   "execution_count": 48,
   "id": "7ebec8bc",
   "metadata": {},
   "outputs": [],
   "source": [
    "x = tf.range(9)\n",
    "x = tf.reshape(x, (3,3))"
   ]
  },
  {
   "cell_type": "code",
   "execution_count": 52,
   "id": "9c7831f6",
   "metadata": {},
   "outputs": [],
   "source": [
    "x = tf.transpose(x, perm = [1,0]) #swaps the axis "
   ]
  },
  {
   "cell_type": "code",
   "execution_count": 53,
   "id": "11145eb8",
   "metadata": {},
   "outputs": [
    {
     "data": {
      "text/plain": [
       "<tf.Tensor: shape=(3, 3), dtype=int32, numpy=\n",
       "array([[0, 3, 6],\n",
       "       [1, 4, 7],\n",
       "       [2, 5, 8]])>"
      ]
     },
     "execution_count": 53,
     "metadata": {},
     "output_type": "execute_result"
    }
   ],
   "source": [
    "x #first row is now first column, second row is now second column "
   ]
  }
 ],
 "metadata": {
  "kernelspec": {
   "display_name": "Python 3",
   "language": "python",
   "name": "python3"
  },
  "language_info": {
   "codemirror_mode": {
    "name": "ipython",
    "version": 3
   },
   "file_extension": ".py",
   "mimetype": "text/x-python",
   "name": "python",
   "nbconvert_exporter": "python",
   "pygments_lexer": "ipython3",
   "version": "3.8.11"
  }
 },
 "nbformat": 4,
 "nbformat_minor": 5
}
