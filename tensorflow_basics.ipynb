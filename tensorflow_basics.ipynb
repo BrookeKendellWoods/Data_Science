{
 "cells": [
  {
   "cell_type": "code",
   "execution_count": 1,
   "id": "e8b0c493",
   "metadata": {},
   "outputs": [],
   "source": [
    "import tensorflow as tf\n",
    "import pandas as pd"
   ]
  },
  {
   "cell_type": "markdown",
   "id": "cce0b97d",
   "metadata": {},
   "source": [
    "# initialization of tensors"
   ]
  },
  {
   "cell_type": "code",
   "execution_count": 2,
   "id": "d47d4acb",
   "metadata": {},
   "outputs": [
    {
     "name": "stdout",
     "output_type": "stream",
     "text": [
      "tf.Tensor([[4]], shape=(1, 1), dtype=int32)\n"
     ]
    }
   ],
   "source": [
    "x = tf.constant(4, shape = (1,1)) #can also specify the dtype 'e.g change to float32'\n",
    "print(x)"
   ]
  },
  {
   "cell_type": "code",
   "execution_count": 3,
   "id": "9d0e3862",
   "metadata": {},
   "outputs": [
    {
     "name": "stdout",
     "output_type": "stream",
     "text": [
      "tf.Tensor(\n",
      "[[1 2 3]\n",
      " [4 5 6]], shape=(2, 3), dtype=int32)\n"
     ]
    }
   ],
   "source": [
    "x = tf.constant([[1,2,3],[4,5,6]])\n",
    "print(x)"
   ]
  },
  {
   "cell_type": "code",
   "execution_count": 4,
   "id": "ad20e5d2",
   "metadata": {},
   "outputs": [
    {
     "name": "stdout",
     "output_type": "stream",
     "text": [
      "tf.Tensor(\n",
      "[[1. 1. 1.]\n",
      " [1. 1. 1.]\n",
      " [1. 1. 1.]], shape=(3, 3), dtype=float32)\n"
     ]
    }
   ],
   "source": [
    "x = tf.ones((3,3))\n",
    "print(x)"
   ]
  },
  {
   "cell_type": "code",
   "execution_count": 5,
   "id": "b12340e9",
   "metadata": {},
   "outputs": [
    {
     "name": "stdout",
     "output_type": "stream",
     "text": [
      "tf.Tensor(\n",
      "[[1. 0. 0.]\n",
      " [0. 1. 0.]\n",
      " [0. 0. 1.]], shape=(3, 3), dtype=float32)\n"
     ]
    }
   ],
   "source": [
    "x = tf.eye(3) #eye for identity matrix \n",
    "print(x)"
   ]
  },
  {
   "cell_type": "code",
   "execution_count": 6,
   "id": "4fd20b58",
   "metadata": {},
   "outputs": [
    {
     "name": "stdout",
     "output_type": "stream",
     "text": [
      "tf.Tensor(\n",
      "[[ 1.3143544  -1.5949203  -0.6956662 ]\n",
      " [-1.2280632  -1.0934286  -0.13861321]\n",
      " [-0.9716111  -0.37328425  0.9622611 ]], shape=(3, 3), dtype=float32)\n"
     ]
    }
   ],
   "source": [
    "#from a normal distribution \n",
    "x = tf.random.normal((3,3), mean = 0, stddev = 1) \n",
    "print(x) #gets values between -1 and 1 "
   ]
  },
  {
   "cell_type": "code",
   "execution_count": 7,
   "id": "729e9b17",
   "metadata": {},
   "outputs": [
    {
     "name": "stdout",
     "output_type": "stream",
     "text": [
      "tf.Tensor([[0.82984376 0.8657161  0.27963138]], shape=(1, 3), dtype=float32)\n"
     ]
    }
   ],
   "source": [
    "#uniform distribution\n",
    "x = tf.random.uniform((1,3), minval = 0, maxval = 1)\n",
    "print(x)"
   ]
  },
  {
   "cell_type": "markdown",
   "id": "55bc411b",
   "metadata": {},
   "source": [
    "# mathematical operations "
   ]
  },
  {
   "cell_type": "code",
   "execution_count": 19,
   "id": "a6c107bf",
   "metadata": {},
   "outputs": [],
   "source": [
    "x = tf.constant([1,2,3])\n",
    "y = tf.constant([9,8,7])"
   ]
  },
  {
   "cell_type": "code",
   "execution_count": 20,
   "id": "c2f5079a",
   "metadata": {},
   "outputs": [
    {
     "name": "stdout",
     "output_type": "stream",
     "text": [
      "tf.Tensor([10 10 10], shape=(3,), dtype=int32)\n"
     ]
    }
   ],
   "source": [
    "z = tf.add(x,y) #adds each element wise \n",
    "z = x + y  #both equations are equivelent \n",
    "print(z)"
   ]
  },
  {
   "cell_type": "code",
   "execution_count": 21,
   "id": "7f72b394",
   "metadata": {},
   "outputs": [
    {
     "name": "stdout",
     "output_type": "stream",
     "text": [
      "tf.Tensor([-8 -6 -4], shape=(3,), dtype=int32)\n"
     ]
    }
   ],
   "source": [
    "z = tf.subtract(x,y)\n",
    "z = x - y \n",
    "print(z)"
   ]
  },
  {
   "cell_type": "code",
   "execution_count": 22,
   "id": "bc18a0a9",
   "metadata": {},
   "outputs": [
    {
     "name": "stdout",
     "output_type": "stream",
     "text": [
      "tf.Tensor([0.11111111 0.25       0.42857143], shape=(3,), dtype=float64)\n"
     ]
    }
   ],
   "source": [
    "z = tf.divide(x,y)\n",
    "z = x / y\n",
    "print(z)"
   ]
  },
  {
   "cell_type": "code",
   "execution_count": 23,
   "id": "f27d341f",
   "metadata": {},
   "outputs": [
    {
     "name": "stdout",
     "output_type": "stream",
     "text": [
      "tf.Tensor([ 9 16 21], shape=(3,), dtype=int32)\n"
     ]
    }
   ],
   "source": [
    "z = tf.multiply(x,y)\n",
    "z = x * y\n",
    "print(z)"
   ]
  },
  {
   "cell_type": "code",
   "execution_count": 13,
   "id": "c090fdc2",
   "metadata": {},
   "outputs": [
    {
     "name": "stdout",
     "output_type": "stream",
     "text": [
      "tf.Tensor([  1  32 243], shape=(3,), dtype=int32)\n"
     ]
    }
   ],
   "source": [
    "z = x ** 5 #element wise expontentiation \n",
    "print(z)"
   ]
  },
  {
   "cell_type": "code",
   "execution_count": 25,
   "id": "c01ea469",
   "metadata": {},
   "outputs": [
    {
     "name": "stdout",
     "output_type": "stream",
     "text": [
      "tf.Tensor(46, shape=(), dtype=int32)\n"
     ]
    }
   ],
   "source": [
    "z = tf.tensordot(x, y, axes = 1)\n",
    "print(z)"
   ]
  },
  {
   "cell_type": "code",
   "execution_count": 27,
   "id": "501c1c2d",
   "metadata": {},
   "outputs": [],
   "source": [
    "x= tf.random.normal((2,3))\n",
    "y= tf.random.normal((3,4))"
   ]
  },
  {
   "cell_type": "code",
   "execution_count": 28,
   "id": "92f30525",
   "metadata": {},
   "outputs": [
    {
     "name": "stdout",
     "output_type": "stream",
     "text": [
      "tf.Tensor(\n",
      "[[-0.10756827 -0.12699196  0.08879364  0.17527226]\n",
      " [-0.52414185  0.26615083  0.98801553  1.2508112 ]], shape=(2, 4), dtype=float32)\n"
     ]
    }
   ],
   "source": [
    "z = tf.matmul(x,y)\n",
    "print(z)"
   ]
  },
  {
   "cell_type": "markdown",
   "id": "2adb6b2a",
   "metadata": {},
   "source": [
    "# Indexing of a Tensor"
   ]
  },
  {
   "cell_type": "code",
   "execution_count": 34,
   "id": "1c54cfc9",
   "metadata": {},
   "outputs": [],
   "source": [
    "x = tf.constant([0, 1, 1, 2, 3, 1, 2, 3])"
   ]
  },
  {
   "cell_type": "code",
   "execution_count": 36,
   "id": "dd14af4f",
   "metadata": {},
   "outputs": [
    {
     "name": "stdout",
     "output_type": "stream",
     "text": [
      "tf.Tensor([1 1 2 3 1 2 3], shape=(7,), dtype=int32)\n"
     ]
    }
   ],
   "source": [
    "print(x[1:]) #prints everything except index position 0 "
   ]
  },
  {
   "cell_type": "code",
   "execution_count": 37,
   "id": "b0681cb2",
   "metadata": {},
   "outputs": [
    {
     "name": "stdout",
     "output_type": "stream",
     "text": [
      "tf.Tensor([0 1 3 2], shape=(4,), dtype=int32)\n"
     ]
    }
   ],
   "source": [
    "print(x[::2]) #skips every other element "
   ]
  },
  {
   "cell_type": "code",
   "execution_count": 38,
   "id": "7af00d8f",
   "metadata": {},
   "outputs": [
    {
     "name": "stdout",
     "output_type": "stream",
     "text": [
      "tf.Tensor([3 2 1 3 2 1 1 0], shape=(8,), dtype=int32)\n"
     ]
    }
   ],
   "source": [
    "print(x[::-1]) #reverse order"
   ]
  },
  {
   "cell_type": "code",
   "execution_count": 43,
   "id": "3fee10de",
   "metadata": {},
   "outputs": [
    {
     "name": "stdout",
     "output_type": "stream",
     "text": [
      "tf.Tensor([0 2], shape=(2,), dtype=int32)\n"
     ]
    }
   ],
   "source": [
    "indices = tf.constant([0,3])\n",
    "x_ind = tf.gather(x, indices)\n",
    "print(x_ind)"
   ]
  },
  {
   "cell_type": "code",
   "execution_count": 46,
   "id": "17fbf2f8",
   "metadata": {},
   "outputs": [
    {
     "data": {
      "text/plain": [
       "<tf.Tensor: shape=(2,), dtype=int32, numpy=array([1, 2])>"
      ]
     },
     "execution_count": 46,
     "metadata": {},
     "output_type": "execute_result"
    }
   ],
   "source": [
    "x = tf.constant([[1,2],[3,4],[5,6]])\n",
    "#if want to get first row of all elements \n",
    "x[0] #or #(x[0,:])"
   ]
  },
  {
   "cell_type": "code",
   "execution_count": 47,
   "id": "20addaa9",
   "metadata": {},
   "outputs": [
    {
     "data": {
      "text/plain": [
       "<tf.Tensor: shape=(2, 2), dtype=int32, numpy=\n",
       "array([[1, 2],\n",
       "       [3, 4]])>"
      ]
     },
     "execution_count": 47,
     "metadata": {},
     "output_type": "execute_result"
    }
   ],
   "source": [
    "#if want to get first two rows\n",
    "x[0:2] #non inclusive "
   ]
  }
 ],
 "metadata": {
  "kernelspec": {
   "display_name": "Python 3",
   "language": "python",
   "name": "python3"
  },
  "language_info": {
   "codemirror_mode": {
    "name": "ipython",
    "version": 3
   },
   "file_extension": ".py",
   "mimetype": "text/x-python",
   "name": "python",
   "nbconvert_exporter": "python",
   "pygments_lexer": "ipython3",
   "version": "3.8.11"
  }
 },
 "nbformat": 4,
 "nbformat_minor": 5
}
