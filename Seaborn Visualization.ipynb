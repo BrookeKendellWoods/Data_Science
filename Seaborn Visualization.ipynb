{
 "cells": [
  {
   "cell_type": "code",
   "execution_count": 85,
   "id": "ecb2e0e1",
   "metadata": {},
   "outputs": [],
   "source": [
    "import os\n",
    "import pandas as pd\n",
    "import seaborn as sns\n",
    "import matplotlib.pyplot as plt\n",
    "%matplotlib inline\n",
    "import warnings\n",
    "warnings.filterwarnings('ignore')"
   ]
  },
  {
   "cell_type": "code",
   "execution_count": 5,
   "id": "e70df3e7",
   "metadata": {},
   "outputs": [
    {
     "data": {
      "text/plain": [
       "'C:\\\\Users\\\\18174'"
      ]
     },
     "execution_count": 5,
     "metadata": {},
     "output_type": "execute_result"
    }
   ],
   "source": [
    "os.getcwd()"
   ]
  },
  {
   "cell_type": "code",
   "execution_count": 6,
   "id": "eec82b50",
   "metadata": {},
   "outputs": [],
   "source": [
    "movie_ratings=pd.read_csv(\"P4-Movie-Ratings.csv\")"
   ]
  },
  {
   "cell_type": "code",
   "execution_count": 7,
   "id": "1a1a202a",
   "metadata": {},
   "outputs": [],
   "source": [
    "movie_ratings[\"Genre\"]=movie_ratings[\"Genre\"].astype(\"category\")"
   ]
  },
  {
   "cell_type": "code",
   "execution_count": 8,
   "id": "81762ed4",
   "metadata": {},
   "outputs": [
    {
     "data": {
      "text/plain": [
       "Index(['Film', 'Genre', 'Rotten Tomatoes Ratings %', 'Audience Ratings %',\n",
       "       'Budget (million $)', 'Year of release'],\n",
       "      dtype='object')"
      ]
     },
     "execution_count": 8,
     "metadata": {},
     "output_type": "execute_result"
    }
   ],
   "source": [
    "movie_ratings.columns"
   ]
  },
  {
   "cell_type": "code",
   "execution_count": 9,
   "id": "1840c20f",
   "metadata": {},
   "outputs": [
    {
     "data": {
      "text/plain": [
       "559"
      ]
     },
     "execution_count": 9,
     "metadata": {},
     "output_type": "execute_result"
    }
   ],
   "source": [
    "len(movie_ratings)"
   ]
  },
  {
   "cell_type": "code",
   "execution_count": 10,
   "id": "d33c1c47",
   "metadata": {},
   "outputs": [],
   "source": [
    "movie_ratings.columns=[\"Film\", \"Genre\", \"Rotten_Tomatoes\", \"Ratings\", \"Budget(millions)\", \"year\"]"
   ]
  },
  {
   "cell_type": "code",
   "execution_count": 11,
   "id": "d99d2520",
   "metadata": {},
   "outputs": [
    {
     "data": {
      "text/html": [
       "<div>\n",
       "<style scoped>\n",
       "    .dataframe tbody tr th:only-of-type {\n",
       "        vertical-align: middle;\n",
       "    }\n",
       "\n",
       "    .dataframe tbody tr th {\n",
       "        vertical-align: top;\n",
       "    }\n",
       "\n",
       "    .dataframe thead th {\n",
       "        text-align: right;\n",
       "    }\n",
       "</style>\n",
       "<table border=\"1\" class=\"dataframe\">\n",
       "  <thead>\n",
       "    <tr style=\"text-align: right;\">\n",
       "      <th></th>\n",
       "      <th>Rotten_Tomatoes</th>\n",
       "      <th>Ratings</th>\n",
       "      <th>Budget(millions)</th>\n",
       "      <th>year</th>\n",
       "    </tr>\n",
       "  </thead>\n",
       "  <tbody>\n",
       "    <tr>\n",
       "      <th>count</th>\n",
       "      <td>559.000000</td>\n",
       "      <td>559.000000</td>\n",
       "      <td>559.000000</td>\n",
       "      <td>559.000000</td>\n",
       "    </tr>\n",
       "    <tr>\n",
       "      <th>mean</th>\n",
       "      <td>47.309481</td>\n",
       "      <td>58.744186</td>\n",
       "      <td>50.236136</td>\n",
       "      <td>2009.152057</td>\n",
       "    </tr>\n",
       "    <tr>\n",
       "      <th>std</th>\n",
       "      <td>26.413091</td>\n",
       "      <td>16.826887</td>\n",
       "      <td>48.731817</td>\n",
       "      <td>1.362632</td>\n",
       "    </tr>\n",
       "    <tr>\n",
       "      <th>min</th>\n",
       "      <td>0.000000</td>\n",
       "      <td>0.000000</td>\n",
       "      <td>0.000000</td>\n",
       "      <td>2007.000000</td>\n",
       "    </tr>\n",
       "    <tr>\n",
       "      <th>25%</th>\n",
       "      <td>25.000000</td>\n",
       "      <td>47.000000</td>\n",
       "      <td>20.000000</td>\n",
       "      <td>2008.000000</td>\n",
       "    </tr>\n",
       "    <tr>\n",
       "      <th>50%</th>\n",
       "      <td>46.000000</td>\n",
       "      <td>58.000000</td>\n",
       "      <td>35.000000</td>\n",
       "      <td>2009.000000</td>\n",
       "    </tr>\n",
       "    <tr>\n",
       "      <th>75%</th>\n",
       "      <td>70.000000</td>\n",
       "      <td>72.000000</td>\n",
       "      <td>65.000000</td>\n",
       "      <td>2010.000000</td>\n",
       "    </tr>\n",
       "    <tr>\n",
       "      <th>max</th>\n",
       "      <td>97.000000</td>\n",
       "      <td>96.000000</td>\n",
       "      <td>300.000000</td>\n",
       "      <td>2011.000000</td>\n",
       "    </tr>\n",
       "  </tbody>\n",
       "</table>\n",
       "</div>"
      ],
      "text/plain": [
       "       Rotten_Tomatoes     Ratings  Budget(millions)         year\n",
       "count       559.000000  559.000000        559.000000   559.000000\n",
       "mean         47.309481   58.744186         50.236136  2009.152057\n",
       "std          26.413091   16.826887         48.731817     1.362632\n",
       "min           0.000000    0.000000          0.000000  2007.000000\n",
       "25%          25.000000   47.000000         20.000000  2008.000000\n",
       "50%          46.000000   58.000000         35.000000  2009.000000\n",
       "75%          70.000000   72.000000         65.000000  2010.000000\n",
       "max          97.000000   96.000000        300.000000  2011.000000"
      ]
     },
     "execution_count": 11,
     "metadata": {},
     "output_type": "execute_result"
    }
   ],
   "source": [
    "movie_ratings.describe()"
   ]
  },
  {
   "cell_type": "code",
   "execution_count": 12,
   "id": "2e2ce2fe",
   "metadata": {},
   "outputs": [
    {
     "data": {
      "text/plain": [
       "50.23613595706619"
      ]
     },
     "execution_count": 12,
     "metadata": {},
     "output_type": "execute_result"
    }
   ],
   "source": [
    "movie_ratings[\"Budget(millions)\"].mean()"
   ]
  },
  {
   "cell_type": "code",
   "execution_count": 13,
   "id": "5ba2ffdf",
   "metadata": {},
   "outputs": [],
   "source": [
    "def spending(budget):\n",
    "    if budget < 20:\n",
    "        return \"cheap\"\n",
    "    elif budget < 50:\n",
    "        return \"average\"\n",
    "    else:\n",
    "        return \"high budget movie\""
   ]
  },
  {
   "cell_type": "code",
   "execution_count": 14,
   "id": "e79f251d",
   "metadata": {},
   "outputs": [],
   "source": [
    "movie_ratings.rename({\"Budget(millions)\":\"budget\",\n",
    "                    \"Rotten_Tomatoes\":\"RT\"}, axis=1, inplace=True)"
   ]
  },
  {
   "cell_type": "code",
   "execution_count": 15,
   "id": "b7273fd2",
   "metadata": {},
   "outputs": [
    {
     "data": {
      "text/plain": [
       "<AxesSubplot:>"
      ]
     },
     "execution_count": 15,
     "metadata": {},
     "output_type": "execute_result"
    },
    {
     "data": {
      "image/png": "[encoded data removed]",
      "text/plain": [
       "<Figure size 432x288 with 1 Axes>"
      ]
     },
     "metadata": {
      "needs_background": "light"
     },
     "output_type": "display_data"
    }
   ],
   "source": [
    "movie_ratings['budget'].apply(spending).value_counts().plot(kind=\"bar\")"
   ]
  },
  {
   "cell_type": "code",
   "execution_count": 16,
   "id": "d047e402",
   "metadata": {},
   "outputs": [
    {
     "data": {
      "text/plain": [
       "Film       False\n",
       "Genre      False\n",
       "RT         False\n",
       "Ratings    False\n",
       "budget     False\n",
       "year       False\n",
       "dtype: bool"
      ]
     },
     "execution_count": 16,
     "metadata": {},
     "output_type": "execute_result"
    }
   ],
   "source": [
    "movie_ratings.isnull().any() #no null values "
   ]
  },
  {
   "cell_type": "code",
   "execution_count": 17,
   "id": "cba5d48e",
   "metadata": {},
   "outputs": [],
   "source": [
    "movie_ratings['Film']=movie_ratings['Film'].astype(\"category\")"
   ]
  },
  {
   "cell_type": "code",
   "execution_count": 18,
   "id": "aef4d94b",
   "metadata": {},
   "outputs": [
    {
     "data": {
      "text/plain": [
       "<AxesSubplot:>"
      ]
     },
     "execution_count": 18,
     "metadata": {},
     "output_type": "execute_result"
    },
    {
     "data": {
      "image/png": "[encoded data removed]",
      "text/plain": [
       "<Figure size 432x288 with 1 Axes>"
      ]
     },
     "metadata": {
      "needs_background": "light"
     },
     "output_type": "display_data"
    }
   ],
   "source": [
    "movie_ratings[\"Ratings\"].hist(color='pink')"
   ]
  },
  {
   "cell_type": "code",
   "execution_count": 19,
   "id": "58152601",
   "metadata": {},
   "outputs": [
    {
     "data": {
      "text/plain": [
       "Index(['Film', 'Genre', 'RT', 'Ratings', 'budget', 'year'], dtype='object')"
      ]
     },
     "execution_count": 19,
     "metadata": {},
     "output_type": "execute_result"
    }
   ],
   "source": [
    "movie_ratings.columns"
   ]
  },
  {
   "cell_type": "markdown",
   "id": "5ebddffe",
   "metadata": {},
   "source": [
    "# Joint Plots"
   ]
  },
  {
   "cell_type": "code",
   "execution_count": 20,
   "id": "53eea3ce",
   "metadata": {},
   "outputs": [
    {
     "data": {
      "image/png": "[encoded data removed]",
      "text/plain": [
       "<Figure size 432x432 with 3 Axes>"
      ]
     },
     "metadata": {
      "needs_background": "light"
     },
     "output_type": "display_data"
    }
   ],
   "source": [
    "j=sns.jointplot(data=movie_ratings, x=\"RT\", y=\"Ratings\", kind=\"hex\") #can change kind to many different parameters such as reg for regression #shows if there is relationships or dependency "
   ]
  },
  {
   "cell_type": "code",
   "execution_count": 21,
   "id": "8257ff52",
   "metadata": {},
   "outputs": [
    {
     "data": {
      "image/png": "[encoded data removed]",
      "text/plain": [
       "<Figure size 432x288 with 1 Axes>"
      ]
     },
     "metadata": {},
     "output_type": "display_data"
    }
   ],
   "source": [
    "sns.set_style(\"darkgrid\") #other options darkgrid,white\n",
    "n1=sns.distplot(movie_ratings.Ratings, bins=15) #curve is more or less normally distributed "
   ]
  },
  {
   "cell_type": "code",
   "execution_count": 22,
   "id": "7dd331f7",
   "metadata": {},
   "outputs": [
    {
     "data": {
      "image/png": "[encoded data removed]",
      "text/plain": [
       "<Figure size 432x288 with 1 Axes>"
      ]
     },
     "metadata": {},
     "output_type": "display_data"
    }
   ],
   "source": [
    "n2=sns.distplot(movie_ratings.RT, bins=15) #when critics use criteria to judge movies, normal distribution is lost "
   ]
  },
  {
   "cell_type": "markdown",
   "id": "fad4ffab",
   "metadata": {},
   "source": [
    "# Stacked Histogram"
   ]
  },
  {
   "cell_type": "code",
   "execution_count": 23,
   "id": "6364f635",
   "metadata": {},
   "outputs": [
    {
     "data": {
      "text/plain": [
       "0         Comedy\n",
       "1      Adventure\n",
       "2         Action\n",
       "3      Adventure\n",
       "4         Comedy\n",
       "         ...    \n",
       "554       Comedy\n",
       "555       Comedy\n",
       "556     Thriller\n",
       "557       Action\n",
       "558       Comedy\n",
       "Name: Genre, Length: 559, dtype: category\n",
       "Categories (7, object): ['Action', 'Adventure', 'Comedy', 'Drama', 'Horror', 'Romance', 'Thriller']"
      ]
     },
     "execution_count": 23,
     "metadata": {},
     "output_type": "execute_result"
    }
   ],
   "source": [
    "movie_ratings.Genre"
   ]
  },
  {
   "cell_type": "code",
   "execution_count": 24,
   "id": "3002e7a0",
   "metadata": {},
   "outputs": [
    {
     "data": {
      "image/png": "[encoded data removed]",
      "text/plain": [
       "<Figure size 432x288 with 1 Axes>"
      ]
     },
     "metadata": {},
     "output_type": "display_data"
    }
   ],
   "source": [
    "plt.hist( [  movie_ratings[movie_ratings['Genre']=='Comedy'].budget, \\\n",
    "          movie_ratings[movie_ratings['Genre']=='Action'].budget , \\\n",
    "         movie_ratings[movie_ratings['Genre']=='Thriller'].budget], bins=5, stacked=True)\n",
    "plt.show()"
   ]
  },
  {
   "cell_type": "code",
   "execution_count": 25,
   "id": "90e66a22",
   "metadata": {},
   "outputs": [
    {
     "name": "stdout",
     "output_type": "stream",
     "text": [
      "Action\n",
      "Adventure\n",
      "Comedy\n",
      "Drama\n",
      "Horror\n",
      "Romance\n",
      "Thriller\n"
     ]
    }
   ],
   "source": [
    "for gen in movie_ratings['Genre'].cat.categories:\n",
    "    print(gen)"
   ]
  },
  {
   "cell_type": "code",
   "execution_count": 26,
   "id": "4a1d0d07",
   "metadata": {},
   "outputs": [
    {
     "data": {
      "image/png": "[encoded data removed]",
      "text/plain": [
       "<Figure size 432x288 with 1 Axes>"
      ]
     },
     "metadata": {},
     "output_type": "display_data"
    }
   ],
   "source": [
    "list1=[]\n",
    "mylabels=[]\n",
    "for gen in movie_ratings['Genre'].cat.categories:\n",
    "    list1.append(movie_ratings[movie_ratings.Genre==gen].budget)\n",
    "    mylabels.append(gen)\n",
    "\n",
    "h=plt.hist(list1, bins=30, stacked=True, rwidth=1, label=mylabels)\n",
    "plt.legend()\n",
    "plt.show()"
   ]
  },
  {
   "cell_type": "code",
   "execution_count": null,
   "id": "ab6feeb6",
   "metadata": {},
   "outputs": [],
   "source": []
  }
 ],
 "metadata": {
  "kernelspec": {
   "display_name": "Python 3",
   "language": "python",
   "name": "python3"
  }
 },
 "nbformat": 4,
 "nbformat_minor": 5
}
