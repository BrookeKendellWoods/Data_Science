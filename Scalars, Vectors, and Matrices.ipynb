{
 "cells": [
  {
   "cell_type": "markdown",
   "id": "bcca6d7f",
   "metadata": {},
   "source": [
    "# import relevant libraries"
   ]
  },
  {
   "cell_type": "code",
   "execution_count": 13,
   "id": "13b24f90",
   "metadata": {},
   "outputs": [],
   "source": [
    "import numpy as np"
   ]
  },
  {
   "cell_type": "markdown",
   "id": "a6a5b57c",
   "metadata": {},
   "source": [
    "# scalar\n"
   ]
  },
  {
   "cell_type": "code",
   "execution_count": 14,
   "id": "b3fdd802",
   "metadata": {},
   "outputs": [],
   "source": [
    "s = 5 #int or float will do job to declare scalar "
   ]
  },
  {
   "cell_type": "code",
   "execution_count": 15,
   "id": "5a83412b",
   "metadata": {},
   "outputs": [
    {
     "data": {
      "text/plain": [
       "5"
      ]
     },
     "execution_count": 15,
     "metadata": {},
     "output_type": "execute_result"
    }
   ],
   "source": [
    "s"
   ]
  },
  {
   "cell_type": "markdown",
   "id": "64be2e3a",
   "metadata": {},
   "source": [
    "# vector"
   ]
  },
  {
   "cell_type": "code",
   "execution_count": 16,
   "id": "017e308c",
   "metadata": {},
   "outputs": [],
   "source": [
    "v = np.array([-5,-2,4])"
   ]
  },
  {
   "cell_type": "code",
   "execution_count": 5,
   "id": "4a5696c7",
   "metadata": {},
   "outputs": [
    {
     "data": {
      "text/plain": [
       "array([-5, -2,  4])"
      ]
     },
     "execution_count": 5,
     "metadata": {},
     "output_type": "execute_result"
    }
   ],
   "source": [
    "v #by default , v is a row vector "
   ]
  },
  {
   "cell_type": "markdown",
   "id": "b4a72de7",
   "metadata": {},
   "source": [
    "# matrices"
   ]
  },
  {
   "cell_type": "code",
   "execution_count": 7,
   "id": "a5e27bce",
   "metadata": {},
   "outputs": [],
   "source": [
    "m = np.array([[5,12,6],[-3,0,14]])"
   ]
  },
  {
   "cell_type": "code",
   "execution_count": 8,
   "id": "c9eaf465",
   "metadata": {},
   "outputs": [
    {
     "data": {
      "text/plain": [
       "array([[ 5, 12,  6],\n",
       "       [-3,  0, 14]])"
      ]
     },
     "execution_count": 8,
     "metadata": {},
     "output_type": "execute_result"
    }
   ],
   "source": [
    "m"
   ]
  },
  {
   "cell_type": "code",
   "execution_count": 9,
   "id": "acefd953",
   "metadata": {},
   "outputs": [
    {
     "data": {
      "text/plain": [
       "int"
      ]
     },
     "execution_count": 9,
     "metadata": {},
     "output_type": "execute_result"
    }
   ],
   "source": [
    "type(s)"
   ]
  },
  {
   "cell_type": "code",
   "execution_count": 10,
   "id": "81f58433",
   "metadata": {},
   "outputs": [
    {
     "data": {
      "text/plain": [
       "numpy.ndarray"
      ]
     },
     "execution_count": 10,
     "metadata": {},
     "output_type": "execute_result"
    }
   ],
   "source": [
    "type(v) # one dimensional array "
   ]
  },
  {
   "cell_type": "code",
   "execution_count": 11,
   "id": "234fd0ec",
   "metadata": {},
   "outputs": [
    {
     "data": {
      "text/plain": [
       "numpy.ndarray"
      ]
     },
     "execution_count": 11,
     "metadata": {},
     "output_type": "execute_result"
    }
   ],
   "source": [
    "type(m) #two dimensional array "
   ]
  },
  {
   "cell_type": "code",
   "execution_count": 12,
   "id": "31ddbd82",
   "metadata": {},
   "outputs": [],
   "source": [
    "s_array = np.array(5) #if want s to be consistent with others "
   ]
  },
  {
   "cell_type": "code",
   "execution_count": 17,
   "id": "59e81f8f",
   "metadata": {},
   "outputs": [
    {
     "data": {
      "text/plain": [
       "numpy.ndarray"
      ]
     },
     "execution_count": 17,
     "metadata": {},
     "output_type": "execute_result"
    }
   ],
   "source": [
    "type(s_array) "
   ]
  },
  {
   "cell_type": "markdown",
   "id": "a320b5e5",
   "metadata": {},
   "source": [
    "# Data shapes"
   ]
  },
  {
   "cell_type": "code",
   "execution_count": 18,
   "id": "a8d9d466",
   "metadata": {},
   "outputs": [
    {
     "data": {
      "text/plain": [
       "(2, 3)"
      ]
     },
     "execution_count": 18,
     "metadata": {},
     "output_type": "execute_result"
    }
   ],
   "source": [
    "m.shape"
   ]
  },
  {
   "cell_type": "code",
   "execution_count": 19,
   "id": "a5103665",
   "metadata": {},
   "outputs": [
    {
     "data": {
      "text/plain": [
       "(3,)"
      ]
     },
     "execution_count": 19,
     "metadata": {},
     "output_type": "execute_result"
    }
   ],
   "source": [
    "v.shape #in memory of computer this object has 3 elements "
   ]
  },
  {
   "cell_type": "code",
   "execution_count": 20,
   "id": "321e41b0",
   "metadata": {},
   "outputs": [
    {
     "data": {
      "text/plain": [
       "array([[-5, -2,  4]])"
      ]
     },
     "execution_count": 20,
     "metadata": {},
     "output_type": "execute_result"
    }
   ],
   "source": [
    "v.reshape(1,3) #reshape gives an array a new shape without changing its data row vector"
   ]
  },
  {
   "cell_type": "code",
   "execution_count": 21,
   "id": "989127c2",
   "metadata": {},
   "outputs": [
    {
     "data": {
      "text/plain": [
       "array([[-5],\n",
       "       [-2],\n",
       "       [ 4]])"
      ]
     },
     "execution_count": 21,
     "metadata": {},
     "output_type": "execute_result"
    }
   ],
   "source": [
    "v.reshape(3,1) #column vector "
   ]
  }
 ],
 "metadata": {
  "kernelspec": {
   "display_name": "Python 3",
   "language": "python",
   "name": "python3"
  },
  "language_info": {
   "codemirror_mode": {
    "name": "ipython",
    "version": 3
   },
   "file_extension": ".py",
   "mimetype": "text/x-python",
   "name": "python",
   "nbconvert_exporter": "python",
   "pygments_lexer": "ipython3",
   "version": "3.8.3"
  }
 },
 "nbformat": 4,
 "nbformat_minor": 5
}
