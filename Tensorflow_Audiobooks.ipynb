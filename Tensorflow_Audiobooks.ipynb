{
 "cells": [
  {
   "cell_type": "markdown",
   "id": "7467d606",
   "metadata": {},
   "source": [
    "# import relevant packages"
   ]
  },
  {
   "cell_type": "code",
   "execution_count": 20,
   "id": "4e900f46",
   "metadata": {},
   "outputs": [],
   "source": [
    "import tensorflow as tf\n",
    "\n",
    "import tensorflow_datasets as tfds\n",
    "import pandas as pd\n",
    "import numpy as np\n",
    "\n",
    "from sklearn import preprocessing"
   ]
  },
  {
   "cell_type": "markdown",
   "id": "e5387583",
   "metadata": {},
   "source": [
    "# data"
   ]
  },
  {
   "cell_type": "code",
   "execution_count": 23,
   "id": "69c92154",
   "metadata": {},
   "outputs": [],
   "source": [
    "raw_csv_data = np.loadtxt(\"Audiobooks_data.csv\", delimiter = ',') #inputs are all variable in csv except first and last col"
   ]
  },
  {
   "cell_type": "markdown",
   "id": "159337d1",
   "metadata": {},
   "source": [
    "# extract inputs and targets"
   ]
  },
  {
   "cell_type": "code",
   "execution_count": 34,
   "id": "5721fe89",
   "metadata": {},
   "outputs": [],
   "source": [
    "unscaled_inputs_all = raw_csv_data[:,1:-1] #takes all columns excluding the ID and target ( 1st and last col )\n",
    "targets_all = raw_csv_data[:,-1] #last column (target column)"
   ]
  },
  {
   "cell_type": "markdown",
   "id": "c15a6b06",
   "metadata": {},
   "source": [
    "# balance the dataset"
   ]
  },
  {
   "cell_type": "code",
   "execution_count": 55,
   "id": "d0568774",
   "metadata": {},
   "outputs": [],
   "source": [
    "num_one_targets = int(np.sum(targets_all)) ###count number of targets that are ones since we know less than 0 & keep as many zeros as ones\n",
    "zero_targets = 0 ###counter for targets equal to 0 \n",
    "indices_to_remove = [] ###variable that declares indices to remove\n",
    "\n",
    "for i in range(targets_all.shape[0]): #shape on 0 axis is basically length of the vector so shows the number of all targets \n",
    "    if targets_all[i] == 0: # in loop increase counter by 1 if the target at position i is 0 \n",
    "        zero_targets += 1\n",
    "        if zero_targets > num_one_targets: #in same if add another if which adds an index for the variable indices to remove if the zeros counter is over the number of ones \n",
    "            indices_to_remove.append(i) #after counter for 0 matches # of ones, all indexes will be removed, indices_to_remove will contain all indexes we dont need \n",
    "            \n",
    "unscaled_inputs_equal_priors = np.delete(unscaled_inputs_all, indices_to_remove, axis=0) #deleting balances the dataset \n",
    "\n",
    "targets_equal_priors = np.delete(targets_all, indices_to_remove, axis=0)"
   ]
  },
  {
   "cell_type": "markdown",
   "id": "435c9af9",
   "metadata": {},
   "source": [
    "# standardize the inputs"
   ]
  },
  {
   "cell_type": "code",
   "execution_count": 57,
   "id": "939973ea",
   "metadata": {},
   "outputs": [],
   "source": [
    "scaled_inputs = preprocessing.scale(unscaled_inputs_equal_priors) #the scale method standardizes the dataset along each variable ( so basically all inputs will be standardized)"
   ]
  },
  {
   "cell_type": "markdown",
   "id": "630fb4ac",
   "metadata": {},
   "source": [
    "# shuffle the data"
   ]
  },
  {
   "cell_type": "code",
   "execution_count": 53,
   "id": "f1dc8035",
   "metadata": {},
   "outputs": [],
   "source": [
    "#keep same information in a different order.Possible that dataset collected in order of date so batch to make random\n",
    "shuffled_indices = np.arange(scaled_inputs.shape[0]) #take indexes from axis 0 of scaled input shape and place them in a variable \n",
    "np.random.shuffle(shuffled_indices) #use np.random.shuffle method to shuffle them\n",
    "\n",
    "shuffled_inputs = scaled_inputs[shuffled_indices] #equal to s\n",
    "shuffled_targets = targets_equal_priors[shuffled_indices]"
   ]
  },
  {
   "cell_type": "markdown",
   "id": "6d4bc439",
   "metadata": {},
   "source": [
    "# split data into train, validation, and test"
   ]
  },
  {
   "cell_type": "code",
   "execution_count": 61,
   "id": "289e8944",
   "metadata": {},
   "outputs": [
    {
     "data": {
      "text/plain": [
       "2237"
      ]
     },
     "execution_count": 61,
     "metadata": {},
     "output_type": "execute_result"
    }
   ],
   "source": [
    "samples_count = shuffled_inputs.shape[0]\n",
    "\n",
    "int(samples_count)"
   ]
  },
  {
   "cell_type": "code",
   "execution_count": null,
   "id": "1ccde3c0",
   "metadata": {},
   "outputs": [],
   "source": []
  }
 ],
 "metadata": {
  "kernelspec": {
   "display_name": "Python 3",
   "language": "python",
   "name": "python3"
  },
  "language_info": {
   "codemirror_mode": {
    "name": "ipython",
    "version": 3
   },
   "file_extension": ".py",
   "mimetype": "text/x-python",
   "name": "python",
   "nbconvert_exporter": "python",
   "pygments_lexer": "ipython3",
   "version": "3.8.11"
  }
 },
 "nbformat": 4,
 "nbformat_minor": 5
}
