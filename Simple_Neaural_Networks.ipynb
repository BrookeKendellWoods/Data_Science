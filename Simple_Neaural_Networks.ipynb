{
 "cells": [
  {
   "cell_type": "code",
   "execution_count": 128,
   "id": "268f6020",
   "metadata": {},
   "outputs": [],
   "source": [
    "import datetime, warnings, scipy\n",
    "import matplotlib.pyplot as plt\n",
    "import seaborn as sns\n",
    "import pandas as pd\n",
    "import numpy as np\n",
    "import math #can create own custom layers in keras \n",
    "import tensorflow as tf\n",
    "from keras.layers import Dense #standard neaaural network \n",
    "from keras.layers import LSTM #long short term memory layer, since looking at most likely sequential data \n",
    "\n",
    "from sklearn.preprocessing import MinMaxScaler, StandardScaler #for pre editing data \n",
    "from sklearn.metrics import mean_squared_error #to compute errors \n",
    "\n",
    "import warnings\n",
    "warnings.filterwarnings('ignore')"
   ]
  },
  {
   "cell_type": "code",
   "execution_count": 129,
   "id": "72a20b4d",
   "metadata": {},
   "outputs": [],
   "source": [
    "df = pd.read_csv(\"airquality.csv\", sep = ',')"
   ]
  },
  {
   "cell_type": "code",
   "execution_count": 106,
   "id": "04e089cf",
   "metadata": {},
   "outputs": [
    {
     "data": {
      "text/html": [
       "<div>\n",
       "<style scoped>\n",
       "    .dataframe tbody tr th:only-of-type {\n",
       "        vertical-align: middle;\n",
       "    }\n",
       "\n",
       "    .dataframe tbody tr th {\n",
       "        vertical-align: top;\n",
       "    }\n",
       "\n",
       "    .dataframe thead th {\n",
       "        text-align: right;\n",
       "    }\n",
       "</style>\n",
       "<table border=\"1\" class=\"dataframe\">\n",
       "  <thead>\n",
       "    <tr style=\"text-align: right;\">\n",
       "      <th></th>\n",
       "      <th>Ozone</th>\n",
       "      <th>Solar.R</th>\n",
       "      <th>Wind</th>\n",
       "      <th>Temp</th>\n",
       "      <th>Month</th>\n",
       "      <th>Day</th>\n",
       "    </tr>\n",
       "  </thead>\n",
       "  <tbody>\n",
       "    <tr>\n",
       "      <th>0</th>\n",
       "      <td>41.0</td>\n",
       "      <td>190.0</td>\n",
       "      <td>7.4</td>\n",
       "      <td>67</td>\n",
       "      <td>5</td>\n",
       "      <td>1</td>\n",
       "    </tr>\n",
       "    <tr>\n",
       "      <th>1</th>\n",
       "      <td>36.0</td>\n",
       "      <td>118.0</td>\n",
       "      <td>8.0</td>\n",
       "      <td>72</td>\n",
       "      <td>5</td>\n",
       "      <td>2</td>\n",
       "    </tr>\n",
       "    <tr>\n",
       "      <th>2</th>\n",
       "      <td>12.0</td>\n",
       "      <td>149.0</td>\n",
       "      <td>12.6</td>\n",
       "      <td>74</td>\n",
       "      <td>5</td>\n",
       "      <td>3</td>\n",
       "    </tr>\n",
       "    <tr>\n",
       "      <th>3</th>\n",
       "      <td>18.0</td>\n",
       "      <td>313.0</td>\n",
       "      <td>11.5</td>\n",
       "      <td>62</td>\n",
       "      <td>5</td>\n",
       "      <td>4</td>\n",
       "    </tr>\n",
       "    <tr>\n",
       "      <th>4</th>\n",
       "      <td>NaN</td>\n",
       "      <td>NaN</td>\n",
       "      <td>14.3</td>\n",
       "      <td>56</td>\n",
       "      <td>5</td>\n",
       "      <td>5</td>\n",
       "    </tr>\n",
       "  </tbody>\n",
       "</table>\n",
       "</div>"
      ],
      "text/plain": [
       "   Ozone  Solar.R  Wind  Temp  Month  Day\n",
       "0   41.0    190.0   7.4    67      5    1\n",
       "1   36.0    118.0   8.0    72      5    2\n",
       "2   12.0    149.0  12.6    74      5    3\n",
       "3   18.0    313.0  11.5    62      5    4\n",
       "4    NaN      NaN  14.3    56      5    5"
      ]
     },
     "execution_count": 106,
     "metadata": {},
     "output_type": "execute_result"
    }
   ],
   "source": [
    "df.head(5)"
   ]
  },
  {
   "cell_type": "markdown",
   "id": "36c3d9ab",
   "metadata": {},
   "source": [
    "# Descriptive Statistics"
   ]
  },
  {
   "cell_type": "code",
   "execution_count": 107,
   "id": "c94ec8ff",
   "metadata": {},
   "outputs": [
    {
     "data": {
      "text/html": [
       "<div>\n",
       "<style scoped>\n",
       "    .dataframe tbody tr th:only-of-type {\n",
       "        vertical-align: middle;\n",
       "    }\n",
       "\n",
       "    .dataframe tbody tr th {\n",
       "        vertical-align: top;\n",
       "    }\n",
       "\n",
       "    .dataframe thead th {\n",
       "        text-align: right;\n",
       "    }\n",
       "</style>\n",
       "<table border=\"1\" class=\"dataframe\">\n",
       "  <thead>\n",
       "    <tr style=\"text-align: right;\">\n",
       "      <th></th>\n",
       "      <th>Ozone</th>\n",
       "      <th>Solar.R</th>\n",
       "      <th>Wind</th>\n",
       "      <th>Temp</th>\n",
       "      <th>Month</th>\n",
       "      <th>Day</th>\n",
       "    </tr>\n",
       "  </thead>\n",
       "  <tbody>\n",
       "    <tr>\n",
       "      <th>count</th>\n",
       "      <td>116.000000</td>\n",
       "      <td>146.000000</td>\n",
       "      <td>153.000000</td>\n",
       "      <td>153.000000</td>\n",
       "      <td>153.000000</td>\n",
       "      <td>153.000000</td>\n",
       "    </tr>\n",
       "    <tr>\n",
       "      <th>mean</th>\n",
       "      <td>42.129310</td>\n",
       "      <td>185.931507</td>\n",
       "      <td>9.957516</td>\n",
       "      <td>77.882353</td>\n",
       "      <td>6.993464</td>\n",
       "      <td>15.803922</td>\n",
       "    </tr>\n",
       "    <tr>\n",
       "      <th>std</th>\n",
       "      <td>32.987885</td>\n",
       "      <td>90.058422</td>\n",
       "      <td>3.523001</td>\n",
       "      <td>9.465270</td>\n",
       "      <td>1.416522</td>\n",
       "      <td>8.864520</td>\n",
       "    </tr>\n",
       "    <tr>\n",
       "      <th>min</th>\n",
       "      <td>1.000000</td>\n",
       "      <td>7.000000</td>\n",
       "      <td>1.700000</td>\n",
       "      <td>56.000000</td>\n",
       "      <td>5.000000</td>\n",
       "      <td>1.000000</td>\n",
       "    </tr>\n",
       "    <tr>\n",
       "      <th>25%</th>\n",
       "      <td>18.000000</td>\n",
       "      <td>115.750000</td>\n",
       "      <td>7.400000</td>\n",
       "      <td>72.000000</td>\n",
       "      <td>6.000000</td>\n",
       "      <td>8.000000</td>\n",
       "    </tr>\n",
       "    <tr>\n",
       "      <th>50%</th>\n",
       "      <td>31.500000</td>\n",
       "      <td>205.000000</td>\n",
       "      <td>9.700000</td>\n",
       "      <td>79.000000</td>\n",
       "      <td>7.000000</td>\n",
       "      <td>16.000000</td>\n",
       "    </tr>\n",
       "    <tr>\n",
       "      <th>75%</th>\n",
       "      <td>63.250000</td>\n",
       "      <td>258.750000</td>\n",
       "      <td>11.500000</td>\n",
       "      <td>85.000000</td>\n",
       "      <td>8.000000</td>\n",
       "      <td>23.000000</td>\n",
       "    </tr>\n",
       "    <tr>\n",
       "      <th>max</th>\n",
       "      <td>168.000000</td>\n",
       "      <td>334.000000</td>\n",
       "      <td>20.700000</td>\n",
       "      <td>97.000000</td>\n",
       "      <td>9.000000</td>\n",
       "      <td>31.000000</td>\n",
       "    </tr>\n",
       "  </tbody>\n",
       "</table>\n",
       "</div>"
      ],
      "text/plain": [
       "            Ozone     Solar.R        Wind        Temp       Month         Day\n",
       "count  116.000000  146.000000  153.000000  153.000000  153.000000  153.000000\n",
       "mean    42.129310  185.931507    9.957516   77.882353    6.993464   15.803922\n",
       "std     32.987885   90.058422    3.523001    9.465270    1.416522    8.864520\n",
       "min      1.000000    7.000000    1.700000   56.000000    5.000000    1.000000\n",
       "25%     18.000000  115.750000    7.400000   72.000000    6.000000    8.000000\n",
       "50%     31.500000  205.000000    9.700000   79.000000    7.000000   16.000000\n",
       "75%     63.250000  258.750000   11.500000   85.000000    8.000000   23.000000\n",
       "max    168.000000  334.000000   20.700000   97.000000    9.000000   31.000000"
      ]
     },
     "execution_count": 107,
     "metadata": {},
     "output_type": "execute_result"
    }
   ],
   "source": [
    "df.describe() #gives basic data analytics info looking for "
   ]
  },
  {
   "cell_type": "code",
   "execution_count": 108,
   "id": "2caec14e",
   "metadata": {},
   "outputs": [],
   "source": [
    "df['Ozone'] = df['Ozone'].fillna(42)"
   ]
  },
  {
   "cell_type": "code",
   "execution_count": 109,
   "id": "3df27192",
   "metadata": {},
   "outputs": [
    {
     "data": {
      "text/plain": [
       "Ozone      False\n",
       "Solar.R     True\n",
       "Wind       False\n",
       "Temp       False\n",
       "Month      False\n",
       "Day        False\n",
       "dtype: bool"
      ]
     },
     "execution_count": 109,
     "metadata": {},
     "output_type": "execute_result"
    }
   ],
   "source": [
    "df.isnull().any()"
   ]
  },
  {
   "cell_type": "code",
   "execution_count": 110,
   "id": "1e0879a2",
   "metadata": {},
   "outputs": [],
   "source": [
    "df['Solar.R'] = df['Solar.R'].fillna(186)"
   ]
  },
  {
   "cell_type": "code",
   "execution_count": 111,
   "id": "883458dd",
   "metadata": {},
   "outputs": [
    {
     "data": {
      "text/plain": [
       "Ozone      False\n",
       "Solar.R    False\n",
       "Wind       False\n",
       "Temp       False\n",
       "Month      False\n",
       "Day        False\n",
       "dtype: bool"
      ]
     },
     "execution_count": 111,
     "metadata": {},
     "output_type": "execute_result"
    }
   ],
   "source": [
    "df.isnull().any()"
   ]
  },
  {
   "cell_type": "markdown",
   "id": "b666e0c4",
   "metadata": {},
   "source": [
    "# Calculated Quantile for each Value "
   ]
  },
  {
   "cell_type": "code",
   "execution_count": 130,
   "id": "21b44410",
   "metadata": {},
   "outputs": [],
   "source": [
    "def calculated_quantile(i, df):\n",
    "    Q1 = df[[i]].quantile(0.25)[0]\n",
    "    Q3 = df [[i]].quantile(0.75)[0]\n",
    "    IQR = Q3 - Q1\n",
    "    min = df[[i]].min()[0]\n",
    "    max = df[[i]].max()[0]\n",
    "    max_IQR = Q1 - 1.5 * IQR\n",
    "    min_IQR = Q3 + 1.5 * IQR \n",
    "    \n",
    "    return Q1, Q3, min, max, min_IQR, max_IQR\n",
    "    "
   ]
  },
  {
   "cell_type": "markdown",
   "id": "232d65fa",
   "metadata": {},
   "source": [
    "# Outliers"
   ]
  },
  {
   "cell_type": "code",
   "execution_count": 113,
   "id": "9450df8c",
   "metadata": {},
   "outputs": [
    {
     "name": "stdout",
     "output_type": "stream",
     "text": [
      "\n",
      "Attribute- Ozone :\n",
      "Q1 = 21.00\n",
      "Q3 = 46.00\n",
      "min_IQR = 83.50\n",
      "max_IQR = -16.50\n",
      "\n",
      "Attribute- Solar.R :\n",
      "Q1 = 120.00\n",
      "Q3 = 256.00\n",
      "min_IQR = 460.00\n",
      "max_IQR = -84.00\n",
      "\n",
      "Attribute- Wind :\n",
      "Q1 = 7.40\n",
      "Q3 = 11.50\n",
      "min_IQR = 17.65\n",
      "max_IQR =  1.25\n",
      "\n",
      "Attribute- Temp :\n",
      "Q1 = 72.00\n",
      "Q3 = 85.00\n",
      "min_IQR = 104.50\n",
      "max_IQR =  52.50\n",
      "\n",
      "Attribute- Month :\n",
      "Q1 = 6.00\n",
      "Q3 = 8.00\n",
      "min_IQR = 11.00\n",
      "max_IQR =  3.00\n",
      "\n",
      "Attribute- Day :\n",
      "Q1 = 8.00\n",
      "Q3 = 23.00\n",
      "min_IQR = 45.50\n",
      "max_IQR = -14.50\n"
     ]
    }
   ],
   "source": [
    "for i in df.columns:\n",
    "    print('\\nAttribute-', i, ':')\n",
    "    Q1, Q3, min, max, min_IQR, max_IQR = calculated_quantile(i, df)\n",
    "    print('Q1 = %.2f' % Q1)\n",
    "    print('Q3 = %.2f' % Q3)\n",
    "    \n",
    "    print('min_IQR = %.2f' % min_IQR)\n",
    "    print('max_IQR = % .2f' % max_IQR)\n",
    "    "
   ]
  },
  {
   "cell_type": "markdown",
   "id": "47e1b7f6",
   "metadata": {},
   "source": [
    "# Log Tranformation to deal with Skewed Data"
   ]
  },
  {
   "cell_type": "code",
   "execution_count": 119,
   "id": "6f7cfdb4",
   "metadata": {},
   "outputs": [
    {
     "data": {
      "text/plain": [
       "(153, 1)"
      ]
     },
     "execution_count": 119,
     "metadata": {},
     "output_type": "execute_result"
    }
   ],
   "source": [
    "dataset = np.log1p(df[['Temp']].values) #domain specific \n",
    "dataset.shape"
   ]
  },
  {
   "cell_type": "code",
   "execution_count": 121,
   "id": "b4181eca",
   "metadata": {},
   "outputs": [],
   "source": [
    "#create new df to compare original to log transformation\n",
    "dist_df = pd.DataFrame({'Temp':df['Temp'].values, \n",
    "                       'log_temp': dataset[:, 0]})"
   ]
  },
  {
   "cell_type": "code",
   "execution_count": 124,
   "id": "d0937166",
   "metadata": {},
   "outputs": [
    {
     "data": {
      "text/plain": [
       "<Figure size 864x360 with 0 Axes>"
      ]
     },
     "metadata": {},
     "output_type": "display_data"
    },
    {
     "data": {
      "image/png": "[encoded data removed]",
      "text/plain": [
       "<Figure size 432x288 with 2 Axes>"
      ]
     },
     "metadata": {
      "needs_background": "light"
     },
     "output_type": "display_data"
    }
   ],
   "source": [
    "#create new histogram to plot original vs log transformation\n",
    "plt.figure(figsize = (12,5))\n",
    "dist_df.hist(); #integrates histogram right back into pandas"
   ]
  },
  {
   "cell_type": "markdown",
   "id": "7d4d7d68",
   "metadata": {},
   "source": [
    "# Split the Data into Train & Test Data"
   ]
  },
  {
   "cell_type": "code",
   "execution_count": 127,
   "id": "72b5cf15",
   "metadata": {},
   "outputs": [
    {
     "name": "stdout",
     "output_type": "stream",
     "text": [
      "114 39\n"
     ]
    }
   ],
   "source": [
    "train_size = int(len(dataset) * 0.75)\n",
    "test_size = len(dataset) - train_size #training size - length of the dataset \n",
    "train, test = dataset[0:train_size, :], dataset[train_size:len(dataset), :]\n",
    "print(len(train), len(test))"
   ]
  }
 ],
 "metadata": {
  "kernelspec": {
   "display_name": "Python 3",
   "language": "python",
   "name": "python3"
  },
  "language_info": {
   "codemirror_mode": {
    "name": "ipython",
    "version": 3
   },
   "file_extension": ".py",
   "mimetype": "text/x-python",
   "name": "python",
   "nbconvert_exporter": "python",
   "pygments_lexer": "ipython3",
   "version": "3.8.11"
  }
 },
 "nbformat": 4,
 "nbformat_minor": 5
}
