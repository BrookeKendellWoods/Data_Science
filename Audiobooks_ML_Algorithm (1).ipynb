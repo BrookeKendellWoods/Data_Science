{
 "cells": [
  {
   "cell_type": "raw",
   "id": "de8aad56",
   "metadata": {},
   "source": [
    "this is a classification problem with only 2 classes: won't buy and will buy represented by 1's for will buy and 0 for wont buy "
   ]
  },
  {
   "cell_type": "markdown",
   "id": "694f2a6c",
   "metadata": {},
   "source": [
    "# Create the machine learning algorithm "
   ]
  },
  {
   "cell_type": "code",
   "execution_count": 1,
   "id": "075edde1",
   "metadata": {},
   "outputs": [],
   "source": [
    "import numpy as np\n",
    "import tensorflow as tf\n"
   ]
  },
  {
   "cell_type": "markdown",
   "id": "404ac99f",
   "metadata": {},
   "source": [
    "# data"
   ]
  },
  {
   "cell_type": "code",
   "execution_count": 8,
   "id": "5bd598b3",
   "metadata": {},
   "outputs": [],
   "source": [
    "npz = np.load(\"Audiobooks_train_data4.npz\")\n",
    "\n",
    "train_inputs = npz[\"inputs\"].astype(np.float)\n",
    "train_targets = npz[\"targets\"].astype(np.int)\n",
    "\n",
    "npz = np.load(\"Audiobooks_validation_data4.npz\")\n",
    "\n",
    "validation_inputs, validation_targets = npz[\"inputs\"].astype(np.float), npz[\"targets\"].astype(np.int)\n",
    "\n",
    "npz = np.load(\"Audiobooks_test_data4.npz\")\n",
    "\n",
    "test_inputs, test_targets = npz[\"inputs\"].astype(np.float), npz2[\"targets\"].astype(np.int)\n"
   ]
  },
  {
   "cell_type": "code",
   "execution_count": 10,
   "id": "97b4d0f3",
   "metadata": {},
   "outputs": [
    {
     "name": "stdout",
     "output_type": "stream",
     "text": [
      "Epoch 1/100\n",
      "36/36 - 0s - loss: 0.5874 - accuracy: 0.6887 - val_loss: 0.5050 - val_accuracy: 0.7584\n",
      "Epoch 2/100\n",
      "36/36 - 0s - loss: 0.4643 - accuracy: 0.7670 - val_loss: 0.4383 - val_accuracy: 0.7897\n",
      "Epoch 3/100\n",
      "36/36 - 0s - loss: 0.4136 - accuracy: 0.7829 - val_loss: 0.4067 - val_accuracy: 0.7875\n",
      "Epoch 4/100\n",
      "36/36 - 0s - loss: 0.3858 - accuracy: 0.7955 - val_loss: 0.3867 - val_accuracy: 0.7942\n",
      "Epoch 5/100\n",
      "36/36 - 0s - loss: 0.3707 - accuracy: 0.8036 - val_loss: 0.3792 - val_accuracy: 0.7919\n",
      "Epoch 6/100\n",
      "36/36 - 0s - loss: 0.3590 - accuracy: 0.8131 - val_loss: 0.3701 - val_accuracy: 0.7897\n",
      "Epoch 7/100\n",
      "36/36 - 0s - loss: 0.3529 - accuracy: 0.8125 - val_loss: 0.3673 - val_accuracy: 0.8054\n",
      "Epoch 8/100\n",
      "36/36 - 0s - loss: 0.3481 - accuracy: 0.8134 - val_loss: 0.3688 - val_accuracy: 0.8076\n",
      "Epoch 9/100\n",
      "36/36 - 0s - loss: 0.3447 - accuracy: 0.8142 - val_loss: 0.3587 - val_accuracy: 0.7964\n",
      "Epoch 10/100\n",
      "36/36 - 0s - loss: 0.3422 - accuracy: 0.8161 - val_loss: 0.3548 - val_accuracy: 0.7919\n",
      "Epoch 11/100\n",
      "36/36 - 0s - loss: 0.3361 - accuracy: 0.8192 - val_loss: 0.3509 - val_accuracy: 0.8143\n",
      "Epoch 12/100\n",
      "36/36 - 0s - loss: 0.3393 - accuracy: 0.8178 - val_loss: 0.3526 - val_accuracy: 0.8076\n",
      "Epoch 13/100\n",
      "36/36 - 0s - loss: 0.3342 - accuracy: 0.8198 - val_loss: 0.3520 - val_accuracy: 0.8143\n"
     ]
    },
    {
     "data": {
      "text/plain": [
       "<tensorflow.python.keras.callbacks.History at 0x25592ce59a0>"
      ]
     },
     "execution_count": 10,
     "metadata": {},
     "output_type": "execute_result"
    }
   ],
   "source": [
    "input_size = 10\n",
    "output_size = 2\n",
    "hidden_layer_size = 50\n",
    "\n",
    "model = tf.keras.Sequential([\n",
    "                            tf.keras.layers.Dense(hidden_layer_size, activation='relu'),\n",
    "                            tf.keras.layers.Dense(hidden_layer_size, activation='relu'),\n",
    "                            tf.keras.layers.Dense(output_size, activation='softmax')\n",
    "                            ])\n",
    "model.compile(optimizer='adam', loss='sparse_categorical_crossentropy', metrics=['accuracy'])\n",
    "\n",
    "\n",
    "batch_size = 100\n",
    "\n",
    "max_epochs = 100\n",
    "\n",
    "early_stopping = tf.keras.callbacks.EarlyStopping(patience=2)\n",
    "\n",
    "model.fit(train_inputs,\n",
    "         train_targets,\n",
    "         batch_size = batch_size, \n",
    "          epochs = max_epochs, \n",
    "          callbacks=[early_stopping],\n",
    "          validation_data =(validation_inputs, validation_targets),\n",
    "          verbose=2)\n",
    "\n"
   ]
  },
  {
   "cell_type": "code",
   "execution_count": 11,
   "id": "99dda217",
   "metadata": {},
   "outputs": [
    {
     "name": "stdout",
     "output_type": "stream",
     "text": [
      "14/14 [==============================] - 0s 997us/step - loss: 0.3236 - accuracy: 0.8214\n"
     ]
    }
   ],
   "source": [
    "test_loss,  test_accuracy = model.evaluate(test_inputs, test_targets)"
   ]
  },
  {
   "cell_type": "code",
   "execution_count": 12,
   "id": "e5c8649c",
   "metadata": {},
   "outputs": [
    {
     "name": "stdout",
     "output_type": "stream",
     "text": [
      "\n",
      "Test loss : 0.32. Test accuracy: 82.14%\n"
     ]
    }
   ],
   "source": [
    "print('\\nTest loss : {0:.2f}. Test accuracy: {1:.2f}%'.format(test_loss, test_accuracy*100.))"
   ]
  }
 ],
 "metadata": {
  "kernelspec": {
   "display_name": "Python 3",
   "language": "python",
   "name": "python3"
  },
  "language_info": {
   "codemirror_mode": {
    "name": "ipython",
    "version": 3
   },
   "file_extension": ".py",
   "mimetype": "text/x-python",
   "name": "python",
   "nbconvert_exporter": "python",
   "pygments_lexer": "ipython3",
   "version": "3.8.11"
  }
 },
 "nbformat": 4,
 "nbformat_minor": 5
}
